{
 "cells": [
  {
   "cell_type": "code",
   "execution_count": 1,
   "id": "8ab014fe",
   "metadata": {},
   "outputs": [
    {
     "name": "stdout",
     "output_type": "stream",
     "text": [
      "Data matrix loaded successfully with shape: (192, 8)\n"
     ]
    }
   ],
   "source": [
    "import numpy as np\n",
    "import re\n",
    "from numpy.linalg import matrix_rank, inv\n",
    "from numpy.linalg import matrix_rank, inv\n",
    "from pprint import pprint\n",
    "import cma\n",
    "import warnings\n",
    "import random\n",
    "import scipy.special as scis\n",
    "import scipy.spatial as scispa\n",
    "from cma import CMAEvolutionStrategy\n",
    "import matplotlib.pyplot as plt\n",
    "\n",
    "# Preprocessing function to handle scientific notation like '4.1857 xx10^(8)'\n",
    "def preprocess_csv(input_path, output_path):\n",
    "    \"\"\"\n",
    "    Preprocesses a CSV file to replace non-standard scientific notation\n",
    "    with standard format (e.g., '4.1857 xx10^(8)' -> '4.1857e8').\n",
    "    \"\"\"\n",
    "    with open(input_path, 'r') as infile, open(output_path, 'w') as outfile:\n",
    "        for line in infile:\n",
    "            # Replace 'xx10^(n)' with 'e+n' and remove extra spaces\n",
    "            cleaned_line = re.sub(r'(\\d+\\.\\d+)\\s*xx10\\^\\(([-\\d]+)\\)', r'\\1e\\2', line)\n",
    "            outfile.write(cleaned_line)\n",
    "\n",
    "# Paths for the original and cleaned CSV files\n",
    "input_csv = \"Dixit_result.csv\"  # Replace with your input file path\n",
    "output_csv = \"Dixit_result_cleaned.csv\"  # Replace with desired output path\n",
    "\n",
    "# Preprocess the CSV file\n",
    "preprocess_csv(input_csv, output_csv)\n",
    "\n",
    "# Load the cleaned data into a matrix\n",
    "try:\n",
    "    data_matrix = np.genfromtxt(\n",
    "        output_csv,\n",
    "        delimiter=',',\n",
    "        skip_header=1,  # Skip the header row\n",
    "        usecols=(0,1, 2, 3, 4, 5, 6,7),  # Adjust columns as per your data\n",
    "        dtype=float,\n",
    "        invalid_raise=False  # Ignore invalid rows\n",
    "    )\n",
    "    print(f\"Data matrix loaded successfully with shape: {data_matrix.shape}\")\n",
    "except ValueError as e:\n",
    "    print(f\"Error loading data: {e}\")\n",
    "    data_matrix = None\n",
    "    \n",
    "# Define ZPG, FPG, APG ranges based on case values\n",
    "case        = data_matrix[:,7]\n",
    "ZPG_cases   = range(1, 15)  # Cases 1 to 14\n",
    "FPG_cases   = range(15, 23)  # Cases 15 to 22\n",
    "APG_cases   = range(23, 31)  # Cases 23 to 32\n",
    "zpg_indices = [i for i, c in enumerate(case) if c in ZPG_cases]\n",
    "apg_indices = [i for i, c in enumerate(case) if c in APG_cases]\n",
    "fpg_indices = [i for i, c in enumerate(case) if c in FPG_cases]\n",
    "\n",
    "data_matrix = data_matrix[zpg_indices+apg_indices+fpg_indices,:]\n",
    "#data_matrix = data_matrix[zpg_indices,:]\n",
    "\n",
    "case        = data_matrix[:,7]\n",
    "zpg_indices = [i for i, c in enumerate(case) if c in ZPG_cases]\n",
    "apg_indices = [i for i, c in enumerate(case) if c in APG_cases]\n",
    "fpg_indices = [i for i, c in enumerate(case) if c in FPG_cases]\n",
    "\n",
    "Re_tau = data_matrix[:, 0]  # Re_tau\n",
    "H = data_matrix[:, 1]       # H\n",
    "U_inf_plus = data_matrix[:, 2]  # U_inf^+\n",
    "Re_1_prime = data_matrix[:, 3]  # Re_1'\n",
    "f1_prime = data_matrix[:, 4]  # f1'\n",
    "beta     = data_matrix[:,5]\n",
    "theta_plus = data_matrix[:, 6]  # Theta_plus\n",
    "case       = data_matrix[:,7]\n",
    "\n",
    "delta = 1.0\n",
    "U_inf = 1.0\n",
    "# Step 1: Calculate u_tau using U_inf and U_inf^+\n",
    "u_tau = U_inf / U_inf_plus  # u_tau = U_inf / U_inf^+\n",
    "\n",
    "# Step 2: Calculate nu using Re_tau\n",
    "nu = u_tau * delta / Re_tau  # nu = u_tau * delta / Re_tau\n",
    "\n",
    "# Step 3: Calculate M\n",
    "M = u_tau * nu / f1_prime  # M = u_tau * nu / f1'\n",
    "\n",
    "# Step 4: Calculate theta using theta_plus\n",
    "theta = theta_plus * nu / u_tau  # theta = theta_plus * nu / u_tau\n",
    "\n",
    "# Step 5: Calculate delta^*\n",
    "delta_star = H * theta  # delta^* = H * theta\n",
    "\n",
    "dp_dx      = abs(beta *u_tau**2/delta_star)\n"
   ]
  },
  {
   "cell_type": "code",
   "execution_count": 2,
   "id": "20168611",
   "metadata": {},
   "outputs": [
    {
     "name": "stdout",
     "output_type": "stream",
     "text": [
      "Number of rows with NaN: 0\n"
     ]
    }
   ],
   "source": [
    "data_dimension = np.column_stack((u_tau, [U_inf] * len(u_tau), nu, M, [delta] * len(u_tau), delta_star, theta))\n",
    "\n",
    "# Check rows with NaN\n",
    "rows_with_nan = np.isnan(data_dimension).any(axis=1)\n",
    "num_rows_with_nan = np.sum(rows_with_nan)  # Count rows with NaN\n",
    "\n",
    "# Remove rows with NaN\n",
    "data_dimension_cleaned = data_dimension[~rows_with_nan]\n",
    "\n",
    "# Display results\n",
    "print(f\"Number of rows with NaN: {num_rows_with_nan}\")"
   ]
  },
  {
   "cell_type": "code",
   "execution_count": 3,
   "id": "31094051",
   "metadata": {},
   "outputs": [],
   "source": [
    "Y = data_dimension_cleaned[:,0]\n",
    "Y = Y.reshape(-1,1)\n",
    "X = data_dimension_cleaned[:,1:]\n",
    "variables_tauw = ['U_{\\infty}','\\\\nu','M','\\\\delta','\\\\delta^*','\\\\theta'];\n",
    "num_input        = 1 \n",
    "D_in = np.matrix('1 2 3 1 1 1 ; -1 -1 -2 0 0 0')"
   ]
  },
  {
   "cell_type": "code",
   "execution_count": 4,
   "id": "3e97a0eb",
   "metadata": {},
   "outputs": [
    {
     "name": "stdout",
     "output_type": "stream",
     "text": [
      "Rank of D_in: 2\n",
      "D_in matrix:\n",
      " [[ 1  2  3  1  1  1]\n",
      " [-1 -1 -2  0  0  0]]\n",
      "Basis vectors:\n",
      "matrix([[ 1.,  1., -1.,  0.,  0.,  0.],\n",
      "        [-1.,  1.,  0., -1.,  0.,  0.],\n",
      "        [-1.,  1.,  0.,  0., -1.,  0.],\n",
      "        [-1.,  1.,  0.,  0.,  0., -1.]])\n"
     ]
    }
   ],
   "source": [
    "print(\"Rank of D_in:\", matrix_rank(D_in))\n",
    "print(\"D_in matrix:\\n\", D_in)\n",
    "num_rows          = np.shape(D_in)[0]\n",
    "num_cols          = np.shape(D_in)[1]\n",
    "# Function to calculate basis matrices\n",
    "def calc_basis(D_in, col_range):\n",
    "    num_rows      = np.shape(D_in)[0]\n",
    "    num_cols      = np.shape(D_in)[1]\n",
    "    Din1, Din2    = D_in[:, :num_rows], D_in[:, num_rows:]\n",
    "    basis_matrices = []\n",
    "    for i in range(col_range):\n",
    "        x2       = np.zeros((col_range, 1))\n",
    "        x2[i, 0] = -1\n",
    "        x1       = -inv(Din1) * Din2 * x2\n",
    "        basis_matrices.append(np.vstack((x1, x2)))\n",
    "    return np.asmatrix(np.array(basis_matrices))\n",
    "# Generate basis matrices\n",
    "num_basis        = D_in.shape[1] -matrix_rank(D_in)\n",
    "basis_matrices   = calc_basis(D_in, num_basis)\n",
    "print(\"Basis vectors:\")\n",
    "pprint(basis_matrices)"
   ]
  },
  {
   "cell_type": "code",
   "execution_count": 5,
   "id": "be5d80b4",
   "metadata": {},
   "outputs": [],
   "source": [
    "def calc_pi(c, basis_matrices,X):\n",
    "    coef_pi = np.dot(c, basis_matrices) \n",
    "    pi_mat = np.ones((X.shape[0], 1))\n",
    "    for i in range(coef_pi.shape[1]):\n",
    "        tmp = X[:, i] ** coef_pi[:, i]\n",
    "        pi_mat = np.multiply(pi_mat, tmp.reshape(-1, 1))\n",
    "    return pi_mat\n",
    "def calc_pi_omega(coef_pi, X):\n",
    "    pi_mat = np.ones((X.shape[0], 1))\n",
    "    for i in range(coef_pi.shape[1]):\n",
    "        tmp = X[:, i] ** coef_pi[:, i]\n",
    "        pi_mat = np.multiply(pi_mat, tmp.reshape(-1, 1))\n",
    "        \n",
    "    return pi_mat\n",
    "def MI_d_binning(input, output, num_bins):\n",
    "    #Calculate the mutual information between two matrices X and Y using histograms.\n",
    "    #Fast! But not Accurate! Using it for approximation.\n",
    "    #Parameters:\n",
    "    #X (numpy.ndarray): A matrix with shape (num_samples, num_dimensions)\n",
    "    #Y (numpy.ndarray): A matrix with shape (num_samples, num_dimensions)\n",
    "    #num_bins (int): Number of bins for the histogram\n",
    "    #Returns:\n",
    "    #float: The mutual information between X and Y.\n",
    "    def entropy_bin(X, num_bins):\n",
    "        N, D = X.shape\n",
    "        bins = [num_bins] * D\n",
    "        hist, _ = np.histogramdd(X, bins=bins)\n",
    "        hist = hist / np.sum(hist)  # Normalize to get probabilities\n",
    "        positive_indices = hist > 0\n",
    "        return -np.sum(hist[positive_indices] * np.log(hist[positive_indices]))\n",
    "\n",
    "    mi = entropy_bin(input, num_bins) + entropy_bin(output, num_bins) - entropy_bin(np.hstack([input, output]), num_bins)\n",
    "    return mi\n",
    "\n",
    "def KraskovMI1_nats( x, y, k : int = 1 ):\n",
    "    '''Compute the mutual information using the Kraskov estimator (approach\n",
    "    1 in Kraskov et al. (2004))\n",
    "    Parameters\n",
    "        x:  np.ndarray\n",
    "            [ N, dim_x ] First variable of dimension \"dim_x\" with \"N\" samples\n",
    "            per dimension\n",
    "        y:  np.ndarray\n",
    "            [ N, dim_x ] second variable of dimension \"dim_x\" with \"N\" samples\n",
    "            per dimension\n",
    "        \n",
    "        k:  int\n",
    "            Nearest-neighbor ( >= 1 )\n",
    "    '''\n",
    "\n",
    "    N, dim = x.shape\n",
    "\n",
    "    V = np.hstack([ x, y ])\n",
    "\n",
    "    # Init query tree\n",
    "    kdtree = scispa.KDTree( V )\n",
    "    ei, _ = kdtree.query( V, k + 1, p = np.infty)\n",
    "    # infty norm is gonna give us the maximum distance (x-dir or y-dir)\n",
    "    dM = ei[:,-1]\n",
    "\n",
    "    kdtree_x = scispa.KDTree( x )\n",
    "    kdtree_y = scispa.KDTree( y )\n",
    "\n",
    "    nx = kdtree_x.query_ball_point( x, dM , p = np.infty, return_length = True)\n",
    "    ny = kdtree_y.query_ball_point( y, dM , p = np.infty, return_length = True)\n",
    "\n",
    "    # we do not add + 1 because it is accounted in query_ball_point\n",
    "    ave = ( scis.psi( nx ) + scis.psi( ny ) ).mean()\n",
    "\n",
    "    return scis.psi(k) - ave + scis.psi(N)"
   ]
  },
  {
   "cell_type": "code",
   "execution_count": 6,
   "id": "090cc04c",
   "metadata": {},
   "outputs": [],
   "source": [
    "def MI_input_output(para,basis_matrices,X,Y,num_basis,num_inputs):\n",
    "    with warnings.catch_warnings():\n",
    "        warnings.filterwarnings('error') \n",
    "        a_list = [tuple(para[i*num_basis:(i+1)*num_basis]) for i in range(num_inputs)]\n",
    "        try:\n",
    "            pi_list = [calc_pi(a, basis_matrices, X) for a in a_list]\n",
    "            pi = np.column_stack(pi_list)\n",
    "        except RuntimeWarning:\n",
    "            return random.uniform(1e6, 1e10)  # Return a large positive value in case of RuntimeWarning\n",
    "    if np.any(np.isnan(pi)):\n",
    "        return random.uniform(1e6, 1e10)  # Return a large positive value\n",
    "    \n",
    "    Y = Y.reshape(-1, 1)\n",
    "    #MI = MI_d_binning(np.array(pi), np.array(Y), 50)\n",
    "    MI = KraskovMI1_nats(np.log(np.array(pi)), np.log(np.array(Y)), 10)\n",
    "    return -MI\n"
   ]
  },
  {
   "cell_type": "code",
   "execution_count": 7,
   "id": "dae3fa90",
   "metadata": {},
   "outputs": [
    {
     "name": "stdout",
     "output_type": "stream",
     "text": [
      "num of paraters: 4\n",
      "(150_w,300)-aCMA-ES (mu_w=78.0,w_1=3%) in dimension 4 (seed=64201, Mon Mar  3 15:39:06 2025)\n",
      "Iterat #Fevals   function value  axis ratio  sigma  min&max std  t[m:s]\n",
      "    1    300 -1.430308829430094e+00 1.0e+00 5.47e-01  4e-01  6e-01 0:00.1\n",
      "    2    600 -1.671450235391794e+00 2.0e+00 5.66e-01  4e-01  6e-01 0:00.2\n",
      "    3    900 -1.612228990879421e+00 4.6e+00 5.39e-01  4e-01  6e-01 0:00.3\n",
      "   39  11700 -1.774935636805539e+00 1.7e+02 2.23e+00  3e-03  4e-03 0:03.3\n",
      "   58  17400 -1.775172629750865e+00 8.1e+01 3.44e+00  2e-04  4e-04 0:04.9\n",
      "termination on tolfunhist=1e-12\n",
      "final/bestever f-value = -1.775173e+00 -1.775284e+00 after 17400/12397 evaluations\n",
      "incumbent solution: [0.4584413429561734, -0.5930274397330542, -0.9514070306858066, 0.9498207847594736]\n",
      "std deviation: [0.0003909128678754353, 0.0004202311539894841, 0.00018494652849416693, 0.00017623306221681862]\n",
      "Optimized_params [ 0.46095633 -0.59582562 -0.95189998  0.95028945]\n",
      "Optimized_MI -1.7752841793193803\n"
     ]
    }
   ],
   "source": [
    "num_para = num_basis*num_input\n",
    "print('num of paraters:',num_para)\n",
    "lower_bounds = [-2] * num_para  # exponent lower bound\n",
    "upper_bounds = [2] * num_para   # exponent upper bound\n",
    "bounds = [lower_bounds, upper_bounds]\n",
    "options = {\n",
    "    'bounds': bounds,\n",
    "    'maxiter': 50000,  # maximum number of iterations\n",
    "    'tolx': 1e-4,     # tolerance in solution variability\n",
    "    'tolfun': 1e-4,   # tolerance in function value changes\n",
    "    'popsize': 300,\n",
    "}\n",
    "es = CMAEvolutionStrategy([0.1] * num_para, 0.5,options)\n",
    "while not es.stop():\n",
    "    solutions = es.ask()\n",
    "    es.tell(solutions, [MI_input_output(x,basis_matrices,X,Y,num_basis,num_input) for x in solutions])\n",
    "    es.disp()\n",
    "es.result_pretty()\n",
    "optimized_params = es.result.xbest\n",
    "optimized_MI     = es.result.fbest\n",
    "print('Optimized_params',optimized_params)\n",
    "print('Optimized_MI',optimized_MI)"
   ]
  },
  {
   "cell_type": "code",
   "execution_count": 8,
   "id": "b5993c6b",
   "metadata": {},
   "outputs": [
    {
     "name": "stdout",
     "output_type": "stream",
     "text": [
      "a_list [(0.4609563304746857, -0.5958256200182104, -0.9518999776358618, 0.9502894463098921)]\n",
      "a_list_fractions: [(Fraction(4, 9), Fraction(-3, 5), Fraction(-1, 1), Fraction(1, 1))]\n",
      "coef_pi1 [[-1.    0.13  0.44 -0.56 -0.9   0.9 ]]\n"
     ]
    }
   ],
   "source": [
    "from fractions import Fraction\n",
    "\n",
    "a_list                  = [tuple(optimized_params[i*num_basis:(i+1)*num_basis]) for i in range(num_input)]\n",
    "a_list_fractions = [\n",
    "    tuple(Fraction(x).limit_denominator(10) for x in tup) for tup in a_list\n",
    "]\n",
    "print('a_list',a_list)\n",
    "print('a_list_fractions:',a_list_fractions)\n",
    "coef_pi_list            = [np.dot(a, basis_matrices) for a in a_list]\n",
    "normalized_coef_pi_list = []\n",
    "for coef_pi in coef_pi_list:\n",
    "    max_abs_value       = np.max(np.abs(coef_pi))\n",
    "    normalized_coef_pi  = coef_pi / max_abs_value\n",
    "    normalized_coef_pi_list.append(-np.round(normalized_coef_pi,2))\n",
    "# Print the normalized coef_pi values\n",
    "for i, normalized_coef_pi in enumerate(normalized_coef_pi_list):\n",
    "    print(f'coef_pi{i+1}', normalized_coef_pi)\n"
   ]
  },
  {
   "cell_type": "code",
   "execution_count": 9,
   "id": "2f34b7c5",
   "metadata": {},
   "outputs": [
    {
     "name": "stdout",
     "output_type": "stream",
     "text": [
      "tauw_lab[0] = $\\frac{\\nu^{0.13} \\cdot M^{0.44} \\cdot \\theta^{0.9}}{U_{\\infty}^{1.0} \\cdot \\delta^{0.56} \\cdot \\delta^*^{0.9}}$\n"
     ]
    }
   ],
   "source": [
    "# Initialize labels\n",
    "tauw_lab = []\n",
    "qw_lab = []\n",
    "omega_tauw = np.array(normalized_coef_pi_list)\n",
    "omega_tauw = np.array(omega_tauw).reshape(-1, len(variables_tauw))\n",
    "def create_labels(omega, variables):\n",
    "    labels = []\n",
    "    for row in omega:\n",
    "        positive_part = ''\n",
    "        negative_part = ''\n",
    "        for i, value in enumerate(row):\n",
    "            if value > 0:\n",
    "                if positive_part == '':\n",
    "                    positive_part = f\"{variables[i]}^{{{value}}}\"\n",
    "                else:\n",
    "                    positive_part += f\" \\\\cdot {variables[i]}^{{{value}}}\"\n",
    "            elif value < 0:\n",
    "                if negative_part == '':\n",
    "                    negative_part = f\"{variables[i]}^{{{-value}}}\"\n",
    "                else:\n",
    "                    negative_part += f\" \\\\cdot {variables[i]}^{{{-value}}}\"\n",
    "        if negative_part == '':\n",
    "            labels.append(f\"${positive_part}$\")\n",
    "        elif positive_part == '':\n",
    "            labels.append(f\"$\\\\frac{{1}}{{{negative_part}}}$\")\n",
    "        else:\n",
    "            labels.append(f\"$\\\\frac{{{positive_part}}}{{{negative_part}}}$\")\n",
    "    return labels\n",
    "\n",
    "tauw_lab = create_labels(omega_tauw, variables_tauw)\n",
    "# Print the labels\n",
    "for j, label in enumerate(tauw_lab):\n",
    "    print(f'tauw_lab[{j}] = {label}')\n"
   ]
  },
  {
   "cell_type": "code",
   "execution_count": 12,
   "id": "857c4f93",
   "metadata": {},
   "outputs": [
    {
     "name": "stderr",
     "output_type": "stream",
     "text": [
      "The PostScript backend does not support transparency; partially transparent artists will be rendered opaque.\n"
     ]
    },
    {
     "data": {
      "image/png": "[encoded data removed]",
      "text/plain": [
       "<Figure size 500x500 with 1 Axes>"
      ]
     },
     "metadata": {},
     "output_type": "display_data"
    }
   ],
   "source": [
    "# Plot with distinct colors for ZPG, FPG, and APG\n",
    "from matplotlib.ticker import ScalarFormatter\n",
    "plt.figure(figsize=(5, 5))\n",
    "plt.rcParams['font.family'] = 'Times New Roman'  # Set the font to Times New Roman\n",
    "plt.rcParams['text.usetex'] = True  # Use LaTeX for all text rendering\n",
    "Re_0 = 1/nu\n",
    "\n",
    "# Plot ZPG cases in blue\n",
    "plt.scatter(Re_0[zpg_indices], u_tau[zpg_indices], alpha=0.7, edgecolors='k', color='blue', label=\"ZPG\")\n",
    "\n",
    "# Plot APG cases in red\n",
    "plt.scatter(Re_0[apg_indices], u_tau[apg_indices], alpha=0.7, edgecolors='k', color='red', label=\"APG\")\n",
    "\n",
    "# Plot FPG cases in green\n",
    "plt.scatter(Re_0[fpg_indices], u_tau[fpg_indices], alpha=0.7, edgecolors='k', color='green', label=\"FPG\")\n",
    "ax = plt.gca()\n",
    "formatter = ScalarFormatter(useMathText=True)\n",
    "formatter.set_scientific(True)\n",
    "formatter.set_powerlimits((-2, -2))  # Force exponent at -2\n",
    "\n",
    "ax.yaxis.set_major_formatter(formatter)\n",
    "ax.ticklabel_format(style='scientific', axis='y', scilimits=(-2, -2))\n",
    "\n",
    "# Hide the automatic offset and move 10^-2 to the label\n",
    "ax.yaxis.get_offset_text().set_visible(False)  \n",
    "\n",
    "\n",
    "# Customization of the plot\n",
    "plt.xticks(fontsize=20)\n",
    "plt.yticks(fontsize=20)\n",
    "plt.grid(False)\n",
    "plt.xlabel(r'${\\delta U_{\\infty}}/{\\nu}$', fontsize=20, labelpad=8)\n",
    "plt.ylabel(r'${u_{\\tau}}/{U_{\\infty}}$', fontsize=20, labelpad=8)\n",
    "plt.legend(fontsize=15, loc='best',frameon=False)\n",
    "plt.xscale('log')\n",
    "plt.yscale('log')\n",
    "\n",
    "# Save the plot\n",
    "plt.savefig('Dixit_classical.eps', dpi=300, bbox_inches='tight')\n"
   ]
  },
  {
   "cell_type": "code",
   "execution_count": 13,
   "id": "8230bc4a",
   "metadata": {},
   "outputs": [
    {
     "name": "stderr",
     "output_type": "stream",
     "text": [
      "The PostScript backend does not support transparency; partially transparent artists will be rendered opaque.\n"
     ]
    },
    {
     "data": {
      "image/png": "[encoded data removed]",
      "text/plain": [
       "<Figure size 500x500 with 1 Axes>"
      ]
     },
     "metadata": {},
     "output_type": "display_data"
    }
   ],
   "source": [
    "input_frac = (U_inf*nu/M)**(4/9) * (U_inf*delta/nu)**(4/7)*(delta_star/theta)**(9/10)\n",
    "# Plot with distinct colors for ZPG, FPG, and APG\n",
    "plt.figure(figsize=(5, 5))\n",
    "plt.rcParams['font.family'] = 'Times New Roman'\n",
    "\n",
    "\n",
    "# Plot ZPG cases in blue\n",
    "plt.scatter(input_frac[zpg_indices], Y[zpg_indices], alpha=0.7, edgecolors='k', color='blue', label=\"ZPG\")\n",
    "\n",
    "# Plot APG cases in red\n",
    "plt.scatter(input_frac[apg_indices], Y[apg_indices], alpha=0.7, edgecolors='k', color='red', label=\"APG\")\n",
    "\n",
    "# Plot FPG cases in green\n",
    "plt.scatter(input_frac[fpg_indices], Y[fpg_indices], alpha=0.7, edgecolors='k', color='green', label=\"FPG\")\n",
    "\n",
    "# Customization of the plot\n",
    "plt.xticks(fontsize=20)\n",
    "plt.yticks(fontsize=20)\n",
    "plt.grid(False)\n",
    "plt.xlabel(r'$\\Pi^*$', fontsize=20, labelpad=8)\n",
    "plt.ylabel(r'$\\Pi_o^*$', fontsize=20, labelpad=8)\n",
    "plt.legend(fontsize=15, loc='best',frameon=False)\n",
    "plt.xscale('log')\n",
    "plt.yscale('log')\n",
    "\n",
    "# Save the plot\n",
    "plt.savefig('Dixit_frac.eps', dpi=300, bbox_inches='tight')"
   ]
  },
  {
   "cell_type": "code",
   "execution_count": null,
   "id": "b8397840",
   "metadata": {},
   "outputs": [],
   "source": []
  }
 ],
 "metadata": {
  "kernelspec": {
   "display_name": "Python 3 (ipykernel)",
   "language": "python",
   "name": "python3"
  },
  "language_info": {
   "codemirror_mode": {
    "name": "ipython",
    "version": 3
   },
   "file_extension": ".py",
   "mimetype": "text/x-python",
   "name": "python",
   "nbconvert_exporter": "python",
   "pygments_lexer": "ipython3",
   "version": "3.10.7"
  }
 },
 "nbformat": 4,
 "nbformat_minor": 5
}
