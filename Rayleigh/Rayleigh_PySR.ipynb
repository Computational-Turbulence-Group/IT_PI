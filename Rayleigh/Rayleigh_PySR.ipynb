{
 "cells": [
  {
   "cell_type": "code",
   "execution_count": 1,
   "id": "f96d6e46",
   "metadata": {},
   "outputs": [],
   "source": [
    "import numpy as np\n",
    "from scipy.special import erf\n",
    "import matplotlib.pyplot as plt\n",
    "import pandas as pd\n",
    "from numpy.linalg import matrix_rank, inv\n",
    "from pprint import pprint\n",
    "import warnings\n",
    "import random\n",
    "import scipy.special as scis\n",
    "import scipy.spatial as scispa\n",
    "import matplotlib.cm as cm\n",
    "from scipy.optimize import minimize\n"
   ]
  },
  {
   "cell_type": "code",
   "execution_count": 2,
   "id": "ff0b36ce",
   "metadata": {},
   "outputs": [
    {
     "name": "stdout",
     "output_type": "stream",
     "text": [
      "u_final shape: (10, 500)\n",
      "y_final shape: (10, 500)\n"
     ]
    }
   ],
   "source": [
    "# Function to compute velocity profile u/U as a function of y and t for fixed U and nu\n",
    "def velocity_profile_rayleigh(y, nu, U, t):\n",
    "    return U * (1 - erf(y / (2 * np.sqrt(nu * t))))\n",
    "# Generate samples in the dataset\n",
    "y_values        = np.linspace(0.01, 1, 500)                    # Distance from the plate (m)\n",
    "t_values        = np.linspace(0.01, 5, 10)                 # Time values (s)\n",
    "n_samples       = 1                                        # Number of samples for U and nu\n",
    "U      = np.random.uniform(0.8, 1.0, n_samples)   # Plate velocity (m/s)\n",
    "nu      = np.random.uniform(1e-3, 1e-2, n_samples) # Kinematic viscosity (m^2/s)\n",
    "u_list          = []\n",
    "parameters_list = []\n",
    "\n",
    "# Initialize arrays\n",
    "u_restacked = []\n",
    "y_restacked = []\n",
    "\n",
    "# Reshape u and y by t and samples\n",
    "for t_index, t in enumerate(t_values):\n",
    "    u_t_list = []\n",
    "    y_t_list = []\n",
    "    for sample_index in range(n_samples):\n",
    "        for y in y_values:\n",
    "            # Extract `u` and `y` for each sample and time\n",
    "            u_value = velocity_profile_rayleigh(y, nu[sample_index], U[sample_index], t)\n",
    "            u_t_list.append(u_value)\n",
    "            y_t_list.append(y)\n",
    "    u_restacked.append(u_t_list)\n",
    "    y_restacked.append(y_t_list)\n",
    "\n",
    "# Convert to arrays\n",
    "u_restacked = np.array(u_restacked)  # Shape: (len(t_values), len(y_values) * n_samples)\n",
    "y_restacked = np.array(y_restacked)  # Shape: (len(t_values), len(y_values) * n_samples)\n",
    "\n",
    "# Reshape to (number_t, number_samples)\n",
    "u_final = u_restacked.reshape(len(t_values), -1)  # Flatten along y for each t\n",
    "y_final = y_restacked.reshape(len(t_values), -1)\n",
    "\n",
    "# Check shapes\n",
    "print(f\"u_final shape: {u_final.shape}\")  # Should be (len(t_values), len(y_values) * n_samples)\n",
    "print(f\"y_final shape: {y_final.shape}\")\n"
   ]
  },
  {
   "cell_type": "code",
   "execution_count": 3,
   "id": "60aefd2f",
   "metadata": {},
   "outputs": [
    {
     "data": {
      "image/png": "[encoded data removed]",
      "text/plain": [
       "<Figure size 400x300 with 1 Axes>"
      ]
     },
     "metadata": {},
     "output_type": "display_data"
    }
   ],
   "source": [
    "plt.figure(figsize=(4, 3))\n",
    "\n",
    "# Assign colors for different time steps\n",
    "colors = plt.cm.viridis(np.linspace(0, 1, len(t_values)))\n",
    "\n",
    "for i, t in enumerate(t_values):\n",
    "    # Extract corresponding u and y for the time step\n",
    "    u_normalized = u_final[i] / U  # Normalize u by U\n",
    "    y_scaled = y_final[i] / np.sqrt(nu * t)  # Scale y by sqrt(nu * t)\n",
    "    \n",
    "    # Plot each time step with a unique color\n",
    "    plt.plot(y_scaled, u_normalized, label=f\"t={t:.2f}\", color=colors[i])\n",
    "\n",
    "# Customize plot\n",
    "plt.xlabel(r\"$y / \\sqrt{\\nu t}$\", fontsize=14)\n",
    "plt.ylabel(r\"$u / U$\", fontsize=14)\n",
    "plt.grid(True)\n",
    "#plt.legend(title=\"Time (s)\", fontsize=10)\n",
    "plt.tight_layout()\n",
    "plt.xlim([0,20])\n",
    "plt.show()"
   ]
  },
  {
   "cell_type": "code",
   "execution_count": 4,
   "id": "fdd1c24d",
   "metadata": {},
   "outputs": [],
   "source": [
    "### Collapse the profiles\n",
    "\n",
    "def loss(var, xin, yin):\n",
    "    vari  = np.reshape(var,(len(t_values),2))\n",
    "    xtran = vari[:,0][:,np.newaxis]*xin\n",
    "    ytran = vari[:,1][:,np.newaxis]*yin    \n",
    "    # interpolate at the transformed coordinates grid\n",
    "    ninterp = np.shape(ytran)[1]\n",
    "    llim    = np.max(np.amin(xtran,axis=1))\n",
    "    ulim    = np.min(np.amax(xtran,axis=1))\n",
    "    newgr   = np.linspace(llim,ulim,ninterp)\n",
    "    new_y   = np.zeros((len(t_values),ninterp))\n",
    "    for i in range(len(t_values)):\n",
    "        new_y[i,:] = np.interp(newgr,xtran[i,:],ytran[i,:])\n",
    "    \n",
    "    # compute distances\n",
    "    dist_mat = np.zeros((len(t_values),len(t_values)))\n",
    "    for i in range(len(t_values)):\n",
    "        for j in range(len(t_values)):\n",
    "            dist_mat[i,j] = (np.linalg.norm(new_y[i,:] - new_y[j,:]))**2\n",
    "            \n",
    "    dist = np.sum(dist_mat)/2.0\n",
    "    \n",
    "    return dist\n",
    "\n",
    "# Define parameters and initialise transformation matrices\n",
    "varopt = np.ones((2*len(t_values)))\n",
    "\n",
    "bounds = np.zeros((2*len(t_values),2))\n",
    "bounds[:,0] = 0.05\n",
    "bounds[:,1] = None\n",
    "\n",
    "# Optimisation\n",
    "res = minimize(loss, varopt, args=(y_final, u_final), bounds=bounds)\n",
    "\n",
    "varm = np.reshape(res.x,(len(t_values),2))\n",
    "t1   = varm[:,0]\n",
    "t2   = varm[:,1]"
   ]
  },
  {
   "cell_type": "code",
   "execution_count": 5,
   "id": "9e07db45",
   "metadata": {},
   "outputs": [],
   "source": [
    "def normalise(field,transform):    \n",
    "    fmin = np.average(np.min(field,axis=1))\n",
    "    fmax = np.average(np.max(field,axis=1))\n",
    "    f_norm = (field-fmin)/(fmax-fmin)\n",
    "    t_norm = (transform-fmin)/(fmax-fmin)\n",
    "    \n",
    "    return f_norm, t_norm\n",
    "    \n",
    "xtran = np.zeros_like(y_final)\n",
    "ytran = np.zeros_like(u_final)\n",
    "for i in range(len(t_values)):\n",
    "    xtran[i,:]=y_final[i,:]*t1[i]\n",
    "    ytran[i,:]=u_final[i,:]*t2[i]\n",
    "xtran2, t1n = normalise(xtran,t1)\n",
    "ytran2, t2n = normalise(ytran,t2)"
   ]
  },
  {
   "cell_type": "code",
   "execution_count": 6,
   "id": "92bc2894",
   "metadata": {},
   "outputs": [
    {
     "name": "stdout",
     "output_type": "stream",
     "text": [
      "The found constant and powers are: [8.62945775 0.2958669  0.35206654 0.33751047]\n",
      "The dimensions of the found expression are: [ 0.99999997  0.         -0.31042297]\n"
     ]
    }
   ],
   "source": [
    "### Interpret transformations\n",
    "\n",
    "# Loss function\n",
    "def loss(var, target, target_dims, A, A_dims, w1):\n",
    "    f = np.ones((np.size(target)))\n",
    "    for i in range(np.shape(A)[1]):\n",
    "        temp = np.power(A[:,i],var[i+1])\n",
    "        f   = np.multiply(f,temp)\n",
    "    f = var[0]*f\n",
    "    f = np.reshape(f,(np.size(f),1)) \n",
    "    \n",
    "    f_dims = np.matmul(A_dims,var[1:])\n",
    "    f_dims = np.reshape(f_dims,(np.size(f_dims),1)) \n",
    "\n",
    "    dist = np.sum((f - target)**2) + w1*np.sum(np.abs(f_dims - target_dims))\n",
    "    \n",
    "    return dist\n",
    "\n",
    "# Interpret first identified transformation (alpha)\n",
    "Xsr1   = np.array([np.tile(U,len(t_values)), np.tile(nu,len(t_values)), t_values]).T\n",
    "X_dims = np.array([[1,2,0],[0,0,0],[-1,-1,1]]) ## L, M, T\n",
    "\n",
    "Ysr1 = 1/t1n.copy()\n",
    "Ysr1 = np.reshape(Ysr1,(np.size(Ysr1),1))\n",
    "Y_dims = np.array([[1],[0],[0]]) ## L, M, T\n",
    "\n",
    "weight_dims = 1e-4\n",
    "\n",
    "# Run optimisation\n",
    "niter = 30\n",
    "fmin  = 1e20\n",
    "for i in range(niter):\n",
    "    var = np.ones((np.shape(Xsr1)[1]+1,1)) # adding a multiplitative constant to the power law\n",
    "    var = var.flatten()*np.random.rand(np.size(var))\n",
    "    \n",
    "    res = minimize(loss, var, args=(Ysr1, Y_dims, Xsr1, X_dims, weight_dims))\n",
    "    if (res.fun < fmin):\n",
    "        fmin   = res.fun\n",
    "        var_b1 = res.x\n",
    "\n",
    "print(\"The found constant and powers are:\", var_b1)\n",
    "f = np.ones((np.size(Ysr1)))\n",
    "for i in range(np.shape(Xsr1)[1]):\n",
    "    temp = np.power(Xsr1[:,i],var_b1[i+1])\n",
    "    f    = np.multiply(f,temp)\n",
    "f = var_b1[0]*f\n",
    "f = np.reshape(f,(np.size(f),1))\n",
    "\n",
    "f_dims = np.matmul(X_dims,var_b1[1:])\n",
    "print(\"The dimensions of the found expression are:\", f_dims)"
   ]
  },
  {
   "cell_type": "code",
   "execution_count": 7,
   "id": "b37b2cf7",
   "metadata": {},
   "outputs": [
    {
     "name": "stdout",
     "output_type": "stream",
     "text": [
      "The found constant and powers are: [ 0.27938848  1.3671413  -0.18357065  0.18342465]\n",
      "The dimensions of the found expression are: [ 1.00000001  0.         -1.000146  ]\n"
     ]
    }
   ],
   "source": [
    "# Interpret second identified transformation (beta)\n",
    "Xsr2   = np.array([np.tile(U,len(t_values)), np.tile(nu,len(t_values)), t_values]).T\n",
    "X_dims = np.array([[1,2,0],[0,0,0],[-1,-1,1]]) ## L, M, T\n",
    "\n",
    "Ysr2   = 1/t2n.copy()\n",
    "Ysr2   = np.reshape(Ysr2,(np.size(Ysr2),1))\n",
    "Y_dims = np.array([[1],[0],[-1]]) ## L, M, T\n",
    "\n",
    "weight_dims = 1e-4\n",
    "\n",
    "# Run optimisation\n",
    "niter = 30\n",
    "fmin  = 1e20\n",
    "for i in range(niter):\n",
    "    var = np.ones((np.shape(Xsr2)[1]+1,1)) # adding a multiplitative constant to the power law\n",
    "    var = var.flatten()*np.random.rand(np.size(var))\n",
    "   \n",
    "    res = minimize(loss, var, args=(Ysr2, Y_dims, Xsr2, X_dims, weight_dims))\n",
    "    if (res.fun < fmin):\n",
    "        fmin   = res.fun\n",
    "        var_b2 = res.x\n",
    "print(\"The found constant and powers are:\", var_b2)\n",
    "f = np.ones((np.size(Ysr2)))\n",
    "for i in range(np.shape(Xsr2)[1]):\n",
    "    temp = np.power(Xsr2[:,i],var_b2[i+1])\n",
    "    f    = np.multiply(f,temp)\n",
    "f = var_b2[0]*f\n",
    "f = np.reshape(f,(np.size(f),1))\n",
    "\n",
    "f_dims = np.matmul(X_dims,var_b2[1:])\n",
    "print(\"The dimensions of the found expression are:\", f_dims)"
   ]
  }
 ],
 "metadata": {
  "kernelspec": {
   "display_name": "Python 3 (ipykernel)",
   "language": "python",
   "name": "python3"
  },
  "language_info": {
   "codemirror_mode": {
    "name": "ipython",
    "version": 3
   },
   "file_extension": ".py",
   "mimetype": "text/x-python",
   "name": "python",
   "nbconvert_exporter": "python",
   "pygments_lexer": "ipython3",
   "version": "3.10.7"
  }
 },
 "nbformat": 4,
 "nbformat_minor": 5
}
