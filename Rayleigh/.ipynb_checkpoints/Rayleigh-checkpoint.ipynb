{
 "cells": [
  {
   "cell_type": "code",
   "execution_count": 1,
   "id": "32793205",
   "metadata": {},
   "outputs": [],
   "source": [
    "import numpy as np\n",
    "from scipy.special import erf\n",
    "import matplotlib.pyplot as plt\n",
    "import pandas as pd\n",
    "from numpy.linalg import matrix_rank, inv\n",
    "from pprint import pprint\n",
    "import cma\n",
    "import warnings\n",
    "import random\n",
    "import scipy.special as scis\n",
    "import scipy.spatial as scispa\n",
    "from cma import CMAEvolutionStrategy"
   ]
  },
  {
   "cell_type": "code",
   "execution_count": 2,
   "id": "283a19cd",
   "metadata": {},
   "outputs": [],
   "source": [
    "# Function to compute velocity profile u/U as a function of y and t for fixed U and nu\n",
    "def velocity_profile_rayleigh(y, nu, U, t):\n",
    "    return U * (1 - erf(y / (2 * np.sqrt(nu * t))))\n",
    "# Generate samples in the dataset\n",
    "y_values        = np.linspace(0, 1, 50)                    # Distance from the plate (m)\n",
    "t_values        = np.linspace(0.01, 5, 20)                 # Time values (s)\n",
    "n_samples       = 2                                        # Number of samples for U and nu\n",
    "U_samples       = np.random.uniform(0.5, 1.0, n_samples)   # Plate velocity (m/s)\n",
    "nu_samples      = np.random.uniform(1e-3, 1e-2, n_samples) # Kinematic viscosity (m^2/s)\n",
    "u_list          = []\n",
    "parameters_list = []\n",
    "\n",
    "for i in range(n_samples):\n",
    "    U_current   = U_samples[i]\n",
    "    nu_current  = nu_samples[i]\n",
    "    for y in y_values:\n",
    "        for t in t_values:\n",
    "            u_value = velocity_profile_rayleigh(y, nu_current, U_current, t)\n",
    "            u_list.append(u_value)\n",
    "            parameters_list.append([U_current, y, t, nu_current])\n",
    "u_array          = np.array(u_list).reshape(-1, 1)  \n",
    "parameters_array = np.array(parameters_list)\n",
    "\n",
    "\n",
    "## Replace with your own input, dimensionless output, dimension matrix and variable name\n",
    "Y                = u_array/parameters_array[:,0].reshape(-1,1)  #Output \\Pi_o\n",
    "X                = parameters_array                             #Dimensional input list q                         \n",
    "variables_tauw   = ['U','y', 't','\\\\nu'];                       #Define variable name\n",
    "D_in             = np.matrix('1 1 0 2;-1 0 1 -1')                           #Define D_in matrix \n",
    "num_input        = 1"
   ]
  },
  {
   "cell_type": "code",
   "execution_count": 3,
   "id": "34ad307e",
   "metadata": {},
   "outputs": [
    {
     "name": "stdout",
     "output_type": "stream",
     "text": [
      "Rank of D_in: 2\n",
      "D_in matrix:\n",
      " [[ 1  1  0  2]\n",
      " [-1  0  1 -1]]\n",
      "Basis vectors:\n",
      "matrix([[-1.,  1., -1.,  0.],\n",
      "        [ 1.,  1.,  0., -1.]])\n"
     ]
    }
   ],
   "source": [
    "print(\"Rank of D_in:\", matrix_rank(D_in))\n",
    "print(\"D_in matrix:\\n\", D_in)\n",
    "num_rows          = np.shape(D_in)[0]\n",
    "num_cols          = np.shape(D_in)[1]\n",
    "# Function to calculate basis matrices\n",
    "def calc_basis(D_in, col_range):\n",
    "    num_rows      = np.shape(D_in)[0]\n",
    "    num_cols      = np.shape(D_in)[1]\n",
    "    Din1, Din2    = D_in[:, :num_rows], D_in[:, num_rows:]\n",
    "    basis_matrices = []\n",
    "    for i in range(col_range):\n",
    "        x2       = np.zeros((col_range, 1))\n",
    "        x2[i, 0] = -1\n",
    "        x1       = -inv(Din1) * Din2 * x2\n",
    "        basis_matrices.append(np.vstack((x1, x2)))\n",
    "    return np.asmatrix(np.array(basis_matrices))\n",
    "# Generate basis matrices\n",
    "num_basis        = D_in.shape[1] -matrix_rank(D_in)\n",
    "basis_matrices   = calc_basis(D_in, num_basis)\n",
    "print(\"Basis vectors:\")\n",
    "pprint(basis_matrices)"
   ]
  },
  {
   "cell_type": "code",
   "execution_count": 4,
   "id": "e0f95117",
   "metadata": {},
   "outputs": [],
   "source": [
    "def calc_pi(c, basis_matrices,X):\n",
    "    coef_pi = np.dot(c, basis_matrices) \n",
    "    pi_mat = np.ones((X.shape[0], 1))\n",
    "    for i in range(coef_pi.shape[1]):\n",
    "        tmp = X[:, i] ** coef_pi[:, i]\n",
    "        pi_mat = np.multiply(pi_mat, tmp.reshape(-1, 1))\n",
    "    return pi_mat\n",
    "\n",
    "def MI_d_binning(input, output, num_bins):\n",
    "    #Calculate the mutual information between two matrices X and Y using histograms.\n",
    "    #Fast! But not Accurate! Using it for approximation.\n",
    "    #Parameters:\n",
    "    #X (numpy.ndarray): A matrix with shape (num_samples, num_dimensions)\n",
    "    #Y (numpy.ndarray): A matrix with shape (num_samples, num_dimensions)\n",
    "    #num_bins (int): Number of bins for the histogram\n",
    "    #Returns:\n",
    "    #float: The mutual information between X and Y.\n",
    "    def entropy_bin(X, num_bins):\n",
    "        N, D = X.shape\n",
    "        bins = [num_bins] * D\n",
    "        hist, _ = np.histogramdd(X, bins=bins)\n",
    "        hist = hist / np.sum(hist)  # Normalize to get probabilities\n",
    "        positive_indices = hist > 0\n",
    "        return -np.sum(hist[positive_indices] * np.log(hist[positive_indices]))\n",
    "\n",
    "    mi = entropy_bin(input, num_bins) + entropy_bin(output, num_bins) - entropy_bin(np.hstack([input, output]), num_bins)\n",
    "    return mi\n",
    "\n",
    "def KraskovMI1_nats( x, y, k : int = 1 ):\n",
    "    '''Compute the mutual information using the Kraskov estimator (approach\n",
    "    1 in Kraskov et al. (2004))\n",
    "    Parameters\n",
    "        x:  np.ndarray\n",
    "            [ N, dim_x ] First variable of dimension \"dim_x\" with \"N\" samples\n",
    "            per dimension\n",
    "        y:  np.ndarray\n",
    "            [ N, dim_x ] second variable of dimension \"dim_x\" with \"N\" samples\n",
    "            per dimension\n",
    "        \n",
    "        k:  int\n",
    "            Nearest-neighbor ( >= 1 )\n",
    "    '''\n",
    "\n",
    "    N, dim = x.shape\n",
    "\n",
    "    V = np.hstack([ x, y ])\n",
    "\n",
    "    # Init query tree\n",
    "    kdtree = scispa.KDTree( V )\n",
    "    ei, _ = kdtree.query( V, k + 1, p = np.infty)\n",
    "    # infty norm is gonna give us the maximum distance (x-dir or y-dir)\n",
    "    dM = ei[:,-1]\n",
    "\n",
    "    kdtree_x = scispa.KDTree( x )\n",
    "    kdtree_y = scispa.KDTree( y )\n",
    "\n",
    "    nx = kdtree_x.query_ball_point( x, dM , p = np.infty, return_length = True)\n",
    "    ny = kdtree_y.query_ball_point( y, dM , p = np.infty, return_length = True)\n",
    "\n",
    "    # we do not add + 1 because it is accounted in query_ball_point\n",
    "    ave = ( scis.psi( nx ) + scis.psi( ny ) ).mean()\n",
    "\n",
    "    return scis.psi(k) - ave + scis.psi(N)"
   ]
  },
  {
   "cell_type": "code",
   "execution_count": 5,
   "id": "4a4ec5c9",
   "metadata": {},
   "outputs": [],
   "source": [
    "def MI_input_output(para,basis_matrices,X,Y,num_basis,num_inputs):\n",
    "    with warnings.catch_warnings():\n",
    "        warnings.filterwarnings('error') \n",
    "        a_list = [tuple(para[i*num_basis:(i+1)*num_basis]) for i in range(num_inputs)]\n",
    "        try:\n",
    "            pi_list = [calc_pi(a, basis_matrices, X) for a in a_list]\n",
    "            pi = np.column_stack(pi_list)\n",
    "        except RuntimeWarning:\n",
    "            return random.uniform(1e6, 1e10)  # Return a large positive value in case of RuntimeWarning\n",
    "    if np.any(np.isnan(pi)):\n",
    "        return random.uniform(1e6, 1e10)  # Return a large positive value\n",
    "    \n",
    "    Y = Y.reshape(-1, 1)\n",
    "    MI = MI_d_binning(np.array(pi), np.array(Y), 50)\n",
    "    #MI = KraskovMI1_nats(np.array(pi), np.array(Y), 5)\n",
    "    return -MI\n"
   ]
  },
  {
   "cell_type": "code",
   "execution_count": 6,
   "id": "1114da77",
   "metadata": {},
   "outputs": [
    {
     "name": "stdout",
     "output_type": "stream",
     "text": [
      "num of paraters: 2\n",
      "(150_w,300)-aCMA-ES (mu_w=78.0,w_1=3%) in dimension 2 (seed=879649, Mon Nov  4 17:50:15 2024)\n",
      "Iterat #Fevals   function value  axis ratio  sigma  min&max std  t[m:s]\n",
      "    1    300 -1.460425760312800e+00 1.0e+00 6.83e-01  3e-01  6e-01 0:00.1\n",
      "    2    600 -1.531539587717389e+00 1.9e+00 6.36e-01  1e-01  2e-01 0:00.2\n",
      "    3    900 -1.543200451297777e+00 2.2e+00 9.11e-01  8e-02  3e-01 0:00.4\n",
      "   23   6900 -1.590232429217141e+00 9.4e+00 1.47e+00  6e-03  6e-03 0:03.4\n",
      "   50  15000 -1.586945683107231e+00 9.1e+00 2.13e+00  3e-03  3e-03 0:07.5\n",
      "   84  25200 -1.595641052541081e+00 3.7e+01 2.05e+01  7e-05  2e-04 0:12.5\n",
      "   89  26700 -1.595641052541081e+00 1.1e+02 1.85e+01  6e-05  2e-04 0:13.2\n",
      "termination on tolfunhist=1e-12\n",
      "final/bestever f-value = -1.595641e+00 -1.595641e+00 after 26700/24321 evaluations\n",
      "incumbent solution: [0.11886958514203197, 0.1178580604813725]\n",
      "std deviation: [5.687668963717519e-05, 0.0001692233111116946]\n",
      "Optimized_params [0.11880998 0.11803338]\n",
      "Optimized_MI -1.595641052541081\n"
     ]
    }
   ],
   "source": [
    "num_para = num_basis*num_input\n",
    "print('num of paraters:',num_para)\n",
    "lower_bounds = [-2] * num_para  # exponent lower bound\n",
    "upper_bounds = [2] * num_para   # exponent upper bound\n",
    "bounds = [lower_bounds, upper_bounds]\n",
    "options = {\n",
    "    'bounds': bounds,\n",
    "    'maxiter': 50000,  # maximum number of iterations\n",
    "    'tolx': 1e-4,     # tolerance in solution variability\n",
    "    'tolfun': 1e-4,   # tolerance in function value changes\n",
    "    'popsize': 300,\n",
    "}\n",
    "es = CMAEvolutionStrategy([0.1] * num_para, 0.5,options)\n",
    "while not es.stop():\n",
    "    solutions = es.ask()\n",
    "    es.tell(solutions, [MI_input_output(x,basis_matrices,X,Y,num_basis,num_input) for x in solutions])\n",
    "    es.disp()\n",
    "es.result_pretty()\n",
    "optimized_params = es.result.xbest\n",
    "optimized_MI     = es.result.fbest\n",
    "print('Optimized_params',optimized_params)\n",
    "print('Optimized_MI',optimized_MI)"
   ]
  },
  {
   "cell_type": "code",
   "execution_count": 7,
   "id": "07d067c0",
   "metadata": {},
   "outputs": [
    {
     "name": "stdout",
     "output_type": "stream",
     "text": [
      "coef_pi1 [[-0.   1.  -0.5 -0.5]]\n"
     ]
    }
   ],
   "source": [
    "a_list                  = [tuple(optimized_params[i*num_basis:(i+1)*num_basis]) for i in range(num_input)]\n",
    "# print('a_list:',a_list)\n",
    "coef_pi_list            = [np.dot(a, basis_matrices) for a in a_list]\n",
    "normalized_coef_pi_list = []\n",
    "for coef_pi in coef_pi_list:\n",
    "    max_abs_value       = np.max(np.abs(coef_pi))\n",
    "    normalized_coef_pi  = coef_pi / max_abs_value\n",
    "    normalized_coef_pi_list.append(np.round(normalized_coef_pi,1))\n",
    "# Print the normalized coef_pi values\n",
    "for i, normalized_coef_pi in enumerate(normalized_coef_pi_list):\n",
    "    print(f'coef_pi{i+1}', normalized_coef_pi)"
   ]
  },
  {
   "cell_type": "code",
   "execution_count": 8,
   "id": "7196977c",
   "metadata": {},
   "outputs": [
    {
     "name": "stdout",
     "output_type": "stream",
     "text": [
      "tauw_lab[0] = $\\frac{y^{1.0}}{t^{0.5} \\cdot \\nu^{0.5}}$\n"
     ]
    }
   ],
   "source": [
    "# Initialize labels\n",
    "tauw_lab = []\n",
    "qw_lab = []\n",
    "omega_tauw = np.array(normalized_coef_pi_list)\n",
    "omega_tauw = np.array(omega_tauw).reshape(-1, len(variables_tauw))\n",
    "def create_labels(omega, variables):\n",
    "    labels = []\n",
    "    for row in omega:\n",
    "        positive_part = ''\n",
    "        negative_part = ''\n",
    "        for i, value in enumerate(row):\n",
    "            if value > 0:\n",
    "                if positive_part == '':\n",
    "                    positive_part = f\"{variables[i]}^{{{value}}}\"\n",
    "                else:\n",
    "                    positive_part += f\" \\\\cdot {variables[i]}^{{{value}}}\"\n",
    "            elif value < 0:\n",
    "                if negative_part == '':\n",
    "                    negative_part = f\"{variables[i]}^{{{-value}}}\"\n",
    "                else:\n",
    "                    negative_part += f\" \\\\cdot {variables[i]}^{{{-value}}}\"\n",
    "        if negative_part == '':\n",
    "            labels.append(f\"${positive_part}$\")\n",
    "        elif positive_part == '':\n",
    "            labels.append(f\"$\\\\frac{{1}}{{{negative_part}}}$\")\n",
    "        else:\n",
    "            labels.append(f\"$\\\\frac{{{positive_part}}}{{{negative_part}}}$\")\n",
    "    return labels\n",
    "\n",
    "tauw_lab = create_labels(omega_tauw, variables_tauw)\n",
    "# Print the labels\n",
    "for j, label in enumerate(tauw_lab):\n",
    "    print(f'tauw_lab[{j}] = {label}')\n"
   ]
  },
  {
   "cell_type": "code",
   "execution_count": 9,
   "id": "68c89857",
   "metadata": {},
   "outputs": [
    {
     "name": "stderr",
     "output_type": "stream",
     "text": [
      "The PostScript backend does not support transparency; partially transparent artists will be rendered opaque.\n"
     ]
    },
    {
     "data": {
      "image/png": "[encoded data removed]",
      "text/plain": [
       "<Figure size 400x400 with 1 Axes>"
      ]
     },
     "metadata": {},
     "output_type": "display_data"
    },
    {
     "name": "stderr",
     "output_type": "stream",
     "text": [
      "The PostScript backend does not support transparency; partially transparent artists will be rendered opaque.\n"
     ]
    },
    {
     "data": {
      "image/png": "[encoded data removed]",
      "text/plain": [
       "<Figure size 400x400 with 1 Axes>"
      ]
     },
     "metadata": {},
     "output_type": "display_data"
    }
   ],
   "source": [
    "# Plot the comparison\n",
    "U_fixed  = 1.0       \n",
    "nu_fixed = 1e-3     \n",
    "t_values = [ 0.5, 1, 2, 5 ,10,20]  # Different time values (s)\n",
    "y        = np.linspace(0, 1, 100)\n",
    "u_U_profile = np.array([velocity_profile_rayleigh(y, nu_fixed, U_fixed, t) / U_fixed for t in t_values])\n",
    "y_U_t    = np.array([y / (U_fixed * t) for t in t_values])\n",
    "\n",
    "plt.figure(figsize=(4, 4))\n",
    "plt.rcParams['font.family'] = 'Times New Roman'  # Set the font to Times New Roman\n",
    "plt.rcParams['text.usetex'] = True  # Use LaTeX for all text rendering\n",
    "for i, t in enumerate(t_values):\n",
    "    plt.plot(y_U_t[i], u_U_profile[i], lw=2, label=f't={t:.2f} s')\n",
    "plt.gca().spines['top'].set_linewidth(1.5)\n",
    "plt.gca().spines['bottom'].set_linewidth(1.5)\n",
    "plt.gca().spines['left'].set_linewidth(1.5)\n",
    "plt.gca().spines['right'].set_linewidth(1.5)\n",
    "plt.xlabel(r' $\\Pi^{\\prime} = \\frac{y}{Ut}$', fontsize=20, labelpad=15)\n",
    "plt.ylabel(r\" $\\Pi_o = u/U$\", fontsize=20, labelpad=15)\n",
    "plt.xticks(fontsize=15)\n",
    "plt.yticks(fontsize=15)\n",
    "plt.xlim([0,0.5])\n",
    "#plt.title(f\"Dimensionless Velocity profile $u/U$ vs $y$ for fixed $\\\\nu={nu_fixed:.4f}$ and $U={U_fixed}$\")\n",
    "plt.legend(fontsize=15)\n",
    "plt.grid(True)\n",
    "plt.savefig('Rayleigh_velocity_profile.png', dpi=400, bbox_inches='tight')  # You can change the filename and format (e.g., .pdf)\n",
    "plt.savefig('Rayleigh_velocity_profile.eps', dpi=400, bbox_inches='tight')  # You can change the filename and format (e.g., .pdf)\n",
    "plt.show()\n",
    "\n",
    "\n",
    "# Plot the velocity profiles u/U for different t values\n",
    "plt.figure(figsize=(4, 4))\n",
    "for i, t in enumerate(t_values):\n",
    "    plt.plot(y/np.sqrt(nu_fixed)/np.sqrt(t), u_U_profile[i], lw=2, label=f't={t:.2f} s')\n",
    "plt.xlim([0,40])\n",
    "plt.rcParams['font.family'] = 'Times New Roman'  # Set the font to Times New Roman\n",
    "plt.rcParams['text.usetex'] = True  # Use LaTeX for all text rendering\n",
    "plt.gca().spines['top'].set_linewidth(1.5)\n",
    "plt.gca().spines['bottom'].set_linewidth(1.5)\n",
    "plt.gca().spines['left'].set_linewidth(1.5)\n",
    "plt.gca().spines['right'].set_linewidth(1.5)\n",
    "plt.xlabel(r'$\\Pi= \\frac{y^{1.0}}{t^{0.5} \\cdot \\nu^{0.5}}$', fontsize=20, labelpad=15)\n",
    "plt.ylabel(r\" $\\Pi_o = u/U$\", fontsize=20, labelpad=15)\n",
    "plt.xticks(fontsize=15)\n",
    "plt.yticks(fontsize=15)\n",
    "#plt.title(f\"Dimensionless Velocity profile $u/U$ vs $y$ for fixed $\\\\nu={nu_fixed:.4f}$ and $U={U_fixed}$\")\n",
    "plt.legend(fontsize=15)\n",
    "plt.grid(True)\n",
    "plt.savefig('Rayleigh_velocity_profile_normalized.png', dpi=400, bbox_inches='tight')  # You can change the filename and format (e.g., .pdf)\n",
    "plt.savefig('Rayleigh_velocity_profile_normalized.eps', dpi=400, bbox_inches='tight')  # You can change the filename and format (e.g., .pdf)\n",
    "plt.show()\n"
   ]
  }
 ],
 "metadata": {
  "kernelspec": {
   "display_name": "Python 3 (ipykernel)",
   "language": "python",
   "name": "python3"
  },
  "language_info": {
   "codemirror_mode": {
    "name": "ipython",
    "version": 3
   },
   "file_extension": ".py",
   "mimetype": "text/x-python",
   "name": "python",
   "nbconvert_exporter": "python",
   "pygments_lexer": "ipython3",
   "version": "3.10.7"
  }
 },
 "nbformat": 4,
 "nbformat_minor": 5
}
